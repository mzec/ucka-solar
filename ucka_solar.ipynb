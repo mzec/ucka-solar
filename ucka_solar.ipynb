{
 "cells": [
  {
   "cell_type": "markdown",
   "metadata": {},
   "source": [
    "# Volonterski kamp Učka - izračun energetskih potreba i pogled u budućnost\n",
    "\n",
    "mzec 2017-06-08"
   ]
  },
  {
   "cell_type": "markdown",
   "metadata": {},
   "source": [
    "## Ulazne postavke\n",
    "\n",
    "Predviđena potrošnja je 50 Wh/dan, bazirano na cca 5-6 sati punjenja razmjerno novog smartfona dnevno.\n",
    "\n",
    "1 mob (punjač: 8-10 W) * 5-6 sati dnevno ~ 50 Wh/dan\n",
    "\n",
    "Za kamp od 25 ljudi to iznosi oko 1250 Wh po danu, samo za punjenje mobitela.\n",
    "\n",
    "U slučaju volonterskih kampova, često se također pune i:\n",
    "\n",
    "* digitalci\n",
    "* eksterne baterije\n",
    "* bluetooth zvučnici"
   ]
  },
  {
   "cell_type": "code",
   "execution_count": 151,
   "metadata": {
    "collapsed": true
   },
   "outputs": [],
   "source": [
    "# ulazne postavke - kamp:\n",
    "\n",
    "broj_ljudi = 25\n",
    "potrosnja_wh = 50 # potrošnja po osobi, izražena u Wh/dan\n",
    "# kamp_mjesec = 7 # u kojem mjesecu u godini je kamp?"
   ]
  },
  {
   "cell_type": "code",
   "execution_count": 152,
   "metadata": {
    "collapsed": true
   },
   "outputs": [],
   "source": [
    "# ulazne postavke - PV sustav:\n",
    "pv_snaga = 80 # zbrojena nominalna snaga solarnih panela\n",
    "\n",
    "# učinkovitost\n",
    "koef_solar = 0.75\n",
    "koef_akumulator = 0.9\n",
    "koef_inverter = 0.9\n",
    "\n",
    "# peak-hours sunca za Rijeku, po mjesecima\n",
    "peak = [2.27, 3.28, 4.11, 4.32, 4.92, 5.02, 5.36, 5.14, 4.12, 2.98, 2.11, 1.80]"
   ]
  },
  {
   "cell_type": "markdown",
   "metadata": {},
   "source": [
    "## Trenutni kapacitet\n",
    "\n",
    "BIOM trenutno ima ukupno 80 W kapaciteta solarki (2x40 W), i akumulator naboja 90 Ah."
   ]
  },
  {
   "cell_type": "code",
   "execution_count": 153,
   "metadata": {
    "collapsed": false
   },
   "outputs": [
    {
     "name": "stdout",
     "output_type": "stream",
     "text": [
      "Sustav s 80 W nominalne inst. snage dnevno može isporučiti (prosječno): \n",
      "\n",
      "1 mj:  110.322 Wh/dan\n",
      "2 mj:  159.408 Wh/dan\n",
      "3 mj:  199.74600000000004 Wh/dan\n",
      "4 mj:  209.95200000000006 Wh/dan\n",
      "5 mj:  239.11200000000005 Wh/dan\n",
      "6 mj:  243.97199999999998 Wh/dan\n",
      "7 mj:  260.49600000000004 Wh/dan\n",
      "8 mj:  249.804 Wh/dan\n",
      "9 mj:  200.23200000000003 Wh/dan\n",
      "10 mj:  144.82800000000003 Wh/dan\n",
      "11 mj:  102.546 Wh/dan\n",
      "12 mj:  87.48 Wh/dan\n"
     ]
    }
   ],
   "source": [
    "# izračun isporuke\n",
    "\n",
    "print(\"Sustav s\", pv_snaga,\"W nominalne inst. snage dnevno može isporučiti (prosječno): \\n\")\n",
    "\n",
    "for i in range(0,12):\n",
    "    isporuka = pv_snaga * peak[i] * koef_solar * koef_akumulator * koef_inverter\n",
    "    print(i+1, \"mj: \", isporuka, \"Wh/dan\")"
   ]
  },
  {
   "cell_type": "code",
   "execution_count": 154,
   "metadata": {
    "collapsed": false
   },
   "outputs": [
    {
     "name": "stdout",
     "output_type": "stream",
     "text": [
      "Sustav s 80 W nominalne inst. snage na Učki može podržati:\n",
      "\n",
      "1 mjesec:  2.7239999999999998 ljudi\n",
      "2 mjesec:  3.9359999999999995 ljudi\n",
      "3 mjesec:  4.932 ljudi\n",
      "4 mjesec:  5.184000000000001 ljudi\n",
      "5 mjesec:  5.904000000000001 ljudi\n",
      "6 mjesec:  6.024 ljudi\n",
      "7 mjesec:  6.432 ljudi\n",
      "8 mjesec:  6.167999999999999 ljudi\n",
      "9 mjesec:  4.944 ljudi\n",
      "10 mjesec:  3.576 ljudi\n",
      "11 mjesec:  2.532 ljudi\n",
      "12 mjesec:  2.16 ljudi\n",
      "\n",
      "...koji troše 50 Wh/čovjek/dan\n"
     ]
    }
   ],
   "source": [
    "# broj ljudi\n",
    "\n",
    "print(\"Sustav s\", pv_snaga, \"W nominalne inst. snage na Učki može podržati:\\n\")\n",
    "\n",
    "for i in range(0,12):\n",
    "    isporuka = pv_snaga * peak[i] * koef_ucinkovitost\n",
    "    broj_moguce = isporuka / potrosnja_wh\n",
    "    print(i+1, \"mjesec: \", broj_moguce, \"ljudi\")\n",
    "\n",
    "print(\"\\n...koji troše\", potrosnja_wh, \"Wh/čovjek/dan\")"
   ]
  },
  {
   "cell_type": "markdown",
   "metadata": {},
   "source": [
    "## Potrebni kapacitet\n",
    "\n",
    "Da bi se zadovoljila procijenjena potreba, kapacitet je potrebno povećati na ukupno ~ 400 W instalirane snage, za ljetne mjesece."
   ]
  },
  {
   "cell_type": "code",
   "execution_count": 155,
   "metadata": {
    "collapsed": false
   },
   "outputs": [
    {
     "name": "stdout",
     "output_type": "stream",
     "text": [
      "Dnevne potrebe kampa s 25 ljudi su: 1250 Wh/dan\n",
      "\n",
      "1 mj:  906.4375192617972 W za 25 ljudi.\n",
      "2 mj:  627.3210880256951 W za 25 ljudi.\n",
      "3 mj:  500.63580747549383 W za 25 ljudi.\n",
      "4 mj:  476.2993446121017 W za 25 ljudi.\n",
      "5 mj:  418.2140586837967 W za 25 ljudi.\n",
      "6 mj:  409.883101339498 W za 25 ljudi.\n",
      "7 mj:  383.8830538664701 W za 25 ljudi.\n",
      "8 mj:  400.3138460553074 W za 25 ljudi.\n",
      "9 mj:  499.4206720204562 W za 25 ljudi.\n",
      "10 mj:  690.4742176927114 W za 25 ljudi.\n",
      "11 mj:  975.1721178788056 W za 25 ljudi.\n",
      "12 mj:  1143.1184270690442 W za 25 ljudi.\n"
     ]
    }
   ],
   "source": [
    "# izračun potrebe\n",
    "\n",
    "potreba = broj_ljudi * potrosnja_wh\n",
    "print(\"Dnevne potrebe kampa s\", broj_ljudi, \"ljudi su:\", potreba, \"Wh/dan\\n\")\n",
    "\n",
    "for i in range(0, 12):\n",
    "    pv_snaga_potrebna = potreba / (peak[i] * koef_solar * koef_akumulator * koef_inverter)\n",
    "    isporuka = pv_snaga * peak[i] * koef_solar * koef_akumulator * koef_inverter\n",
    "    print(i+1, \"mj: \", pv_snaga_potrebna, \"W za\", broj_ljudi, \"ljudi.\")"
   ]
  },
  {
   "cell_type": "markdown",
   "metadata": {},
   "source": [
    "S MPPC (učinkovitijim) regulatorom punjenje je učinkovitije, pa bi potrebni instalirani kapacitet bio manji:"
   ]
  },
  {
   "cell_type": "code",
   "execution_count": 156,
   "metadata": {
    "collapsed": false
   },
   "outputs": [
    {
     "name": "stdout",
     "output_type": "stream",
     "text": [
      "1 mj:  715.608567838261 W za 25 ljudi.\n",
      "2 mj:  495.2534905466014 W za 25 ljudi.\n",
      "3 mj:  395.2387953753899 W za 25 ljudi.\n",
      "4 mj:  376.0257983779751 W za 25 ljudi.\n",
      "5 mj:  330.16899369773427 W za 25 ljudi.\n",
      "6 mj:  323.59192211013 W za 25 ljudi.\n",
      "7 mj:  303.06556884195015 W za 25 ljudi.\n",
      "8 mj:  316.03724688576904 W za 25 ljudi.\n",
      "9 mj:  394.27947791088656 W za 25 ljudi.\n",
      "10 mj:  545.1112244942458 W za 25 ljudi.\n",
      "11 mj:  769.8727246411624 W za 25 ljudi.\n",
      "12 mj:  902.4619161071403 W za 25 ljudi.\n"
     ]
    }
   ],
   "source": [
    "for i in range(0, 12):\n",
    "    pv_snaga_potrebna = potreba / (peak[i] * koef_solar_mppc * koef_akumulator * koef_inverter)\n",
    "    isporuka = pv_snaga * peak[i] * koef_akumulator * koef_inverter\n",
    "    print(i+1, \"mj: \", pv_snaga_potrebna, \"W za\", broj_ljudi, \"ljudi.\")"
   ]
  },
  {
   "cell_type": "markdown",
   "metadata": {},
   "source": [
    "Dakle razlika u potrebnoj instaliranoj snazi za isti output s MPPC regulatorom je oko 100 W. Budući da je razlika u cijeni ~ 200 kn, preporučljivo je nabaviti MPPC regulator."
   ]
  },
  {
   "cell_type": "markdown",
   "metadata": {},
   "source": [
    "## Regulator i akumulator\n",
    "\n",
    "Trenutno je potreban regulator od 10A, a nakon nadogradnje sustava bio bi potreban regulator od cca. 30A.\n",
    "\n",
    "Trenutni akumulator ima kapacitet 90 Ah, kako bi mogao izdržati 2 dana rezerve, potrebno ga je nadograditi na 200 Ah."
   ]
  },
  {
   "cell_type": "code",
   "execution_count": 157,
   "metadata": {
    "collapsed": false
   },
   "outputs": [
    {
     "name": "stdout",
     "output_type": "stream",
     "text": [
      "6.175000000000001 A\n",
      "18.675 A\n"
     ]
    }
   ],
   "source": [
    "# regulator\n",
    "\n",
    "scc = 2.47 # short-circuit current\n",
    "safety = 1.25 # sigurnosni koeficijent\n",
    "broj_panela = 2\n",
    "scc_200 = 10\n",
    "\n",
    "print(scc * safety * broj_panela, \"A\")\n",
    "print((scc * broj_panela + scc_200) * safety, \"A\")"
   ]
  },
  {
   "cell_type": "code",
   "execution_count": 158,
   "metadata": {
    "collapsed": false
   },
   "outputs": [
    {
     "name": "stdout",
     "output_type": "stream",
     "text": [
      "200.0\n"
     ]
    }
   ],
   "source": [
    "# akumulator\n",
    "\n",
    "aku = 120 # kapacitet akumulatora, u Ah\n",
    "napon = 12 # napon akumulatora, u V\n",
    "dana_rezerve = 2 # potrebna rezerva (u danima)\n",
    "\n",
    "aku_cilj = potrosnja_wh * 24 * dana_rezerve / napon\n",
    "\n",
    "print (aku_cilj)"
   ]
  }
 ],
 "metadata": {
  "kernelspec": {
   "display_name": "Python 3",
   "language": "python",
   "name": "python3"
  },
  "language_info": {
   "codemirror_mode": {
    "name": "ipython",
    "version": 3
   },
   "file_extension": ".py",
   "mimetype": "text/x-python",
   "name": "python",
   "nbconvert_exporter": "python",
   "pygments_lexer": "ipython3",
   "version": "3.6.0"
  }
 },
 "nbformat": 4,
 "nbformat_minor": 2
}
